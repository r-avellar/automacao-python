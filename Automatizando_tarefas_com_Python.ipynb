{
 "cells": [
  {
   "cell_type": "markdown",
   "metadata": {
    "id": "mkqLR0l2UPd_"
   },
   "source": [
    "# Problema\n",
    "\n",
    "- Passo 1: Buscar dados dos valores das ações de forma automática no site da Yahoo Finanças\n",
    "\n",
    "- Passo 2: gerar análises solicitadas\n",
    "\n",
    "- Passo 3: enviar um email com os resultados das análises "
   ]
  },
  {
   "cell_type": "markdown",
   "metadata": {
    "id": "x29dYWsqaxd0"
   },
   "source": [
    "# PASSO 1"
   ]
  },
  {
   "cell_type": "code",
   "execution_count": 1,
   "metadata": {
    "id": "_RxN5iznUSgw"
   },
   "outputs": [
    {
     "name": "stdout",
     "output_type": "stream",
     "text": [
      "Collecting yfinance\n",
      "  Downloading yfinance-0.1.87-py2.py3-none-any.whl (29 kB)\n",
      "Collecting multitasking>=0.0.7\n",
      "  Downloading multitasking-0.0.11-py3-none-any.whl (8.5 kB)\n",
      "Requirement already satisfied: appdirs>=1.4.4 in c:\\users\\ravel\\anaconda3\\lib\\site-packages (from yfinance) (1.4.4)\n",
      "Requirement already satisfied: numpy>=1.15 in c:\\users\\ravel\\anaconda3\\lib\\site-packages (from yfinance) (1.20.3)\n",
      "Requirement already satisfied: pandas>=0.24.0 in c:\\users\\ravel\\anaconda3\\lib\\site-packages (from yfinance) (1.3.4)\n",
      "Requirement already satisfied: lxml>=4.5.1 in c:\\users\\ravel\\anaconda3\\lib\\site-packages (from yfinance) (4.6.3)\n",
      "Requirement already satisfied: requests>=2.26 in c:\\users\\ravel\\anaconda3\\lib\\site-packages (from yfinance) (2.26.0)\n",
      "Requirement already satisfied: pytz>=2017.3 in c:\\users\\ravel\\anaconda3\\lib\\site-packages (from pandas>=0.24.0->yfinance) (2021.3)\n",
      "Requirement already satisfied: python-dateutil>=2.7.3 in c:\\users\\ravel\\anaconda3\\lib\\site-packages (from pandas>=0.24.0->yfinance) (2.8.2)\n",
      "Requirement already satisfied: six>=1.5 in c:\\users\\ravel\\anaconda3\\lib\\site-packages (from python-dateutil>=2.7.3->pandas>=0.24.0->yfinance) (1.16.0)\n",
      "Requirement already satisfied: certifi>=2017.4.17 in c:\\users\\ravel\\anaconda3\\lib\\site-packages (from requests>=2.26->yfinance) (2021.10.8)\n",
      "Requirement already satisfied: charset-normalizer~=2.0.0 in c:\\users\\ravel\\anaconda3\\lib\\site-packages (from requests>=2.26->yfinance) (2.0.4)\n",
      "Requirement already satisfied: urllib3<1.27,>=1.21.1 in c:\\users\\ravel\\anaconda3\\lib\\site-packages (from requests>=2.26->yfinance) (1.26.7)\n",
      "Requirement already satisfied: idna<4,>=2.5 in c:\\users\\ravel\\anaconda3\\lib\\site-packages (from requests>=2.26->yfinance) (3.2)\n",
      "Installing collected packages: multitasking, yfinance\n",
      "Successfully installed multitasking-0.0.11 yfinance-0.1.87\n"
     ]
    }
   ],
   "source": [
    "!pip install yfinance"
   ]
  },
  {
   "cell_type": "code",
   "execution_count": 2,
   "metadata": {
    "id": "69oQU7EUVSF4"
   },
   "outputs": [],
   "source": [
    "import yfinance"
   ]
  },
  {
   "cell_type": "code",
   "execution_count": 3,
   "metadata": {
    "colab": {
     "base_uri": "https://localhost:8080/",
     "height": 312
    },
    "id": "XfBalHJMWKu5",
    "outputId": "9bbd7c4c-aeaf-45d9-d65c-f433f32f0969"
   },
   "outputs": [
    {
     "name": "stdout",
     "output_type": "stream",
     "text": [
      "Digite a sigla da ação desejada: PETR4.SA\n"
     ]
    },
    {
     "data": {
      "text/plain": [
       "<AxesSubplot:xlabel='Date'>"
      ]
     },
     "execution_count": 3,
     "metadata": {},
     "output_type": "execute_result"
    },
    {
     "data": {
      "image/png": "[encoded data removed]",
      "text/plain": [
       "<Figure size 432x288 with 1 Axes>"
      ]
     },
     "metadata": {
      "needs_background": "light"
     },
     "output_type": "display_data"
    }
   ],
   "source": [
    "ticker = input(\"Digite a sigla da ação desejada: \")\n",
    "dados = yfinance.Ticker(ticker).history(\"6mo\")\n",
    "fechamento = dados.Close\n",
    "fechamento.plot()"
   ]
  },
  {
   "cell_type": "markdown",
   "metadata": {
    "id": "PUFOHkQEa48B"
   },
   "source": [
    "# Passo 2  \n",
    "\n",
    "Análise dos últimos 6 meses\n",
    "\n",
    "- cotação máxima\n",
    "- cotação mínima\n",
    "- cotação atual"
   ]
  },
  {
   "cell_type": "code",
   "execution_count": 26,
   "metadata": {
    "colab": {
     "base_uri": "https://localhost:8080/"
    },
    "id": "hhShogy6YoRH",
    "outputId": "bace86b2-c33e-4602-851b-c423e4a39988"
   },
   "outputs": [
    {
     "data": {
      "text/plain": [
       "33.003028869628906"
      ]
     },
     "execution_count": 26,
     "metadata": {},
     "output_type": "execute_result"
    }
   ],
   "source": [
    "maxima = fechamento.max()\n",
    "maxima"
   ]
  },
  {
   "cell_type": "code",
   "execution_count": 27,
   "metadata": {
    "colab": {
     "base_uri": "https://localhost:8080/"
    },
    "id": "Av5JMKKja8Wg",
    "outputId": "6180ffeb-cb8b-414a-ebab-526d29e9a002"
   },
   "outputs": [
    {
     "data": {
      "text/plain": [
       "18.730594635009766"
      ]
     },
     "execution_count": 27,
     "metadata": {},
     "output_type": "execute_result"
    }
   ],
   "source": [
    "minima = fechamento.min()\n",
    "minima"
   ]
  },
  {
   "cell_type": "code",
   "execution_count": 28,
   "metadata": {
    "colab": {
     "base_uri": "https://localhost:8080/"
    },
    "id": "6N22Jcgrbyg7",
    "outputId": "a9e02b3b-3b73-487b-a10d-5625d3481921"
   },
   "outputs": [
    {
     "data": {
      "text/plain": [
       "25.350000381469727"
      ]
     },
     "execution_count": 28,
     "metadata": {},
     "output_type": "execute_result"
    }
   ],
   "source": [
    "atual = fechamento[-1]\n",
    "atual"
   ]
  },
  {
   "cell_type": "markdown",
   "metadata": {
    "id": "q5apyryVdfTK"
   },
   "source": [
    "# Passo 3\n",
    "\n",
    "- abrir uma nova aba e digitar o endereço do gmail\n",
    "- clicar no botão escrever\n",
    "- preencher o email do destinatário\n",
    "- preencher o assunt\n",
    "- escrever o email\n",
    "- clicar em enviar"
   ]
  },
  {
   "cell_type": "code",
   "execution_count": 7,
   "metadata": {
    "colab": {
     "base_uri": "https://localhost:8080/"
    },
    "id": "rmo3OkldcDst",
    "outputId": "dfdea03d-10e6-442e-c6fa-7ddeb69b1b86"
   },
   "outputs": [
    {
     "name": "stdout",
     "output_type": "stream",
     "text": [
      "Requirement already satisfied: pyautogui in c:\\users\\ravel\\anaconda3\\lib\\site-packages (0.9.53)\n",
      "Requirement already satisfied: pygetwindow>=0.0.5 in c:\\users\\ravel\\anaconda3\\lib\\site-packages (from pyautogui) (0.0.9)\n",
      "Requirement already satisfied: PyTweening>=1.0.1 in c:\\users\\ravel\\anaconda3\\lib\\site-packages (from pyautogui) (1.0.4)\n",
      "Requirement already satisfied: pymsgbox in c:\\users\\ravel\\anaconda3\\lib\\site-packages (from pyautogui) (1.0.9)\n",
      "Requirement already satisfied: pyscreeze>=0.1.21 in c:\\users\\ravel\\anaconda3\\lib\\site-packages (from pyautogui) (0.1.28)\n",
      "Requirement already satisfied: mouseinfo in c:\\users\\ravel\\anaconda3\\lib\\site-packages (from pyautogui) (0.1.3)\n",
      "Requirement already satisfied: pyrect in c:\\users\\ravel\\anaconda3\\lib\\site-packages (from pygetwindow>=0.0.5->pyautogui) (0.2.0)\n",
      "Requirement already satisfied: pyperclip in c:\\users\\ravel\\anaconda3\\lib\\site-packages (from mouseinfo->pyautogui) (1.8.2)\n"
     ]
    }
   ],
   "source": [
    "!pip install pyautogui"
   ]
  },
  {
   "cell_type": "code",
   "execution_count": 8,
   "metadata": {
    "colab": {
     "base_uri": "https://localhost:8080/"
    },
    "id": "7yAsqkzxftjy",
    "outputId": "6f7cffa4-04cf-4a57-a19c-53644847a6c4"
   },
   "outputs": [
    {
     "name": "stdout",
     "output_type": "stream",
     "text": [
      "Requirement already satisfied: pyperclip in c:\\users\\ravel\\anaconda3\\lib\\site-packages (1.8.2)\n"
     ]
    }
   ],
   "source": [
    "!pip install pyperclip"
   ]
  },
  {
   "cell_type": "code",
   "execution_count": 11,
   "metadata": {
    "colab": {
     "base_uri": "https://localhost:8080/",
     "height": 311
    },
    "id": "ZNAtsDN3fx-v",
    "outputId": "51681fd5-be31-4679-f8b9-3aa92bce72e7"
   },
   "outputs": [],
   "source": [
    "import pyautogui\n",
    "import pyperclip"
   ]
  },
  {
   "cell_type": "code",
   "execution_count": 32,
   "metadata": {
    "id": "DcB1zp92gEjB"
   },
   "outputs": [],
   "source": [
    "pyautogui.PAUSE = 2\n",
    "\n",
    "pyautogui.hotkey(\"ctrl\", \"t\")\n",
    "pyperclip.copy(\"www.gmail.com\")\n",
    "pyautogui.hotkey(\"ctrl\", \"v\")\n",
    "pyautogui.hotkey(\"enter\")\n",
    "pyautogui.click(x=111,y=184)\n",
    "\n",
    "pyperclip.copy(\"ravellar.machado@outlook.com\")\n",
    "pyautogui.hotkey(\"ctrl\", \"v\")\n",
    "pyautogui.hotkey(\"tab\")\n",
    "\n",
    "pyperclip.copy(\"Análises das ações\")\n",
    "pyautogui.hotkey(\"ctrl\", \"v\")\n",
    "pyautogui.hotkey(\"tab\")\n",
    "\n",
    "mensagem = f'''\n",
    "Prezado, \n",
    "Seguem as análises dos últimos 6 meses da ação {ticker} :\n",
    "\n",
    "Cotação máxima: R$ {round(maxima, 2)}\n",
    "Cotação mínima: R$ {round(minima, 2)}\n",
    "Cotação atual:  R$ {round(atual,2)}\n",
    "\n",
    "att\n",
    "Renato Avellar\n",
    "'''\n",
    "pyperclip.copy(mensagem)\n",
    "pyautogui.hotkey(\"ctrl\", \"v\")\n",
    "\n",
    "pyautogui.hotkey(\"tab\")\n",
    "pyautogui.hotkey(\"enter\")"
   ]
  },
  {
   "cell_type": "code",
   "execution_count": null,
   "metadata": {},
   "outputs": [],
   "source": [
    "## comando para pegar uma posição na tela\n",
    "## import time\n",
    "## time.sleep(5)\n",
    "## pyautogui.position()"
   ]
  }
 ],
 "metadata": {
  "colab": {
   "provenance": []
  },
  "kernelspec": {
   "display_name": "Python 3 (ipykernel)",
   "language": "python",
   "name": "python3"
  },
  "language_info": {
   "codemirror_mode": {
    "name": "ipython",
    "version": 3
   },
   "file_extension": ".py",
   "mimetype": "text/x-python",
   "name": "python",
   "nbconvert_exporter": "python",
   "pygments_lexer": "ipython3",
   "version": "3.9.7"
  }
 },
 "nbformat": 4,
 "nbformat_minor": 1
}
